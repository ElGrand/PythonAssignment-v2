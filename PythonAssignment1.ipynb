{
 "cells": [
  {
   "cell_type": "code",
   "execution_count": 1,
   "id": "4c309607",
   "metadata": {},
   "outputs": [
    {
     "name": "stdout",
     "output_type": "stream",
     "text": [
      "Collecting pypdf\n",
      "  Obtaining dependency information for pypdf from https://files.pythonhosted.org/packages/61/05/e57748dfb0e4592c4261402d6bf1e1ec80249540223112e7c776a329ae17/pypdf-3.15.4-py3-none-any.whl.metadata\n",
      "  Downloading pypdf-3.15.4-py3-none-any.whl.metadata (7.1 kB)\n",
      "Downloading pypdf-3.15.4-py3-none-any.whl (272 kB)\n",
      "   ---------------------------------------- 0.0/272.3 kB ? eta -:--:--\n",
      "   --------------------------------------- 272.3/272.3 kB 16.4 MB/s eta 0:00:00\n",
      "Installing collected packages: pypdf\n",
      "Successfully installed pypdf-3.15.4\n"
     ]
    }
   ],
   "source": [
    "!pip install pypdf"
   ]
  },
  {
   "cell_type": "code",
   "execution_count": 2,
   "id": "8a6bfad4",
   "metadata": {
    "scrolled": true
   },
   "outputs": [
    {
     "name": "stdout",
     "output_type": "stream",
     "text": [
      "Writing readpdf.py\n"
     ]
    }
   ],
   "source": [
    "%%writefile readpdf.py\n",
    "\n",
    "import pypdf\n",
    "from pypdf import PdfReader\n",
    "\n",
    "def readPDF(filename, frompage):\n",
    "        \n",
    "        # The pdfReader variable is the readable object that will be parsed        \n",
    "        pdfFileObj = open(filename, mode='rb')\n",
    "\n",
    "        # Creating a pdf reader object\n",
    "        mypdf = pypdf.PdfReader(pdfFileObj)\n",
    "        \n",
    "        # Calls a function to print metadata\n",
    "        mymeta = printMeta(mypdf)        # internal call\n",
    "        \n",
    "        # Calls a function to extract the content and convert it into txt format\n",
    "        text = getText(mypdf, frompage)  # internal call\n",
    "        \n",
    "        # Closing the pdf file object\n",
    "        pdfFileObj.close()\n",
    "        return mymeta, text    \n",
    " \n",
    "# Function for printing the metadata\n",
    "def printMeta(mypdf):\n",
    "    meta = mypdf.metadata\n",
    "    mymeta = {'title': meta.title, 'author': meta.author, 'created by': meta.creator, 'pages': str(len(mypdf.pages))}\n",
    "    print(mymeta)\n",
    "    return mymeta  \n",
    "                       \n",
    "# Function for extracting the content of a pdf file\n",
    "def getText(pdfdoc, page):\n",
    "        # start reading from the second page\n",
    "        text = \"\"\n",
    "        # number of pages                \n",
    "        nump = len(pdfdoc.pages)\n",
    "        # loop through pages\n",
    "        while page < nump:\n",
    "            pageObj = pdfdoc.pages[page]\n",
    "            page += 1\n",
    "            text += pageObj.extract_text()\n",
    "        text = text.replace('\\n', ' ')\n",
    "            \n",
    "        # For scanned files, use the OCR library textract instead\n",
    "        if text == \"\":\n",
    "            # If true, run textract to convert scanned/image PDF into text\n",
    "            text = textract.process(fileurl, method='tesseract', language='eng')\n",
    "        text = text.replace('Machine Translated by Google', \"\")\n",
    "        \n",
    "        return text "
   ]
  },
  {
   "cell_type": "markdown",
   "id": "1af882a7",
   "metadata": {},
   "source": [
    "TEST"
   ]
  },
  {
   "cell_type": "code",
   "execution_count": 3,
   "id": "382674f2",
   "metadata": {},
   "outputs": [],
   "source": [
    "import readpdf\n",
    "from readpdf import readPDF"
   ]
  },
  {
   "cell_type": "code",
   "execution_count": 6,
   "id": "37b89d06",
   "metadata": {},
   "outputs": [
    {
     "data": {
      "text/plain": [
       "<module 'readpdf' from 'C:\\\\Users\\\\Andre\\\\Documents\\\\CPH Business 4\\\\BI\\\\Exercises 2023\\\\readpdf.py'>"
      ]
     },
     "execution_count": 6,
     "metadata": {},
     "output_type": "execute_result"
    }
   ],
   "source": [
    "import importlib \n",
    "importlib.reload(readpdf)"
   ]
  },
  {
   "cell_type": "code",
   "execution_count": 7,
   "id": "c16ed267",
   "metadata": {},
   "outputs": [],
   "source": [
    "uri = '/Users/Andre/Documents/CPH Business 4/BI/Exercises 2023/PDFTest.pdf'"
   ]
  },
  {
   "cell_type": "code",
   "execution_count": 8,
   "id": "db10df0b",
   "metadata": {},
   "outputs": [
    {
     "name": "stdout",
     "output_type": "stream",
     "text": [
      "{'title': ' PDF Test Page', 'author': 'Yukon Department of Education', 'created by': 'Acrobat PDFMaker 7.0.7 for Word', 'pages': '1'}\n"
     ]
    }
   ],
   "source": [
    "mymeta, text = readPDF(uri, 0)"
   ]
  },
  {
   "cell_type": "code",
   "execution_count": 9,
   "id": "e8a1457d",
   "metadata": {},
   "outputs": [
    {
     "data": {
      "text/plain": [
       "'    PDF Test File    Congratulations, your comput er is equipped with a PDF (Portable Document Format)  reader!  You should be able to view any of  the PDF documents and forms available on  our site.  PDF forms are indicated by these icons:     or    .      Yukon Department of Education  Box 2703  Whitehorse,Yukon  Canada  Y1A 2C6    Please visit our website at:  http://www.education.gov.yk.ca/    '"
      ]
     },
     "execution_count": 9,
     "metadata": {},
     "output_type": "execute_result"
    }
   ],
   "source": [
    "text"
   ]
  },
  {
   "cell_type": "markdown",
   "id": "419e1606",
   "metadata": {},
   "source": [
    "Write into a Data Frame"
   ]
  },
  {
   "cell_type": "code",
   "execution_count": 10,
   "id": "e666574e",
   "metadata": {},
   "outputs": [],
   "source": [
    "import pandas as pd"
   ]
  },
  {
   "cell_type": "code",
   "execution_count": 11,
   "id": "2e3def39",
   "metadata": {},
   "outputs": [],
   "source": [
    "df = pd.DataFrame(columns = ['meta', 'text'])"
   ]
  },
  {
   "cell_type": "code",
   "execution_count": 12,
   "id": "c90f64e4",
   "metadata": {},
   "outputs": [],
   "source": [
    "#add new row to the end of df\n",
    "df.loc[len(df.index)] = [mymeta, text]\n"
   ]
  },
  {
   "cell_type": "code",
   "execution_count": 13,
   "id": "cc6ffabf",
   "metadata": {},
   "outputs": [
    {
     "data": {
      "text/html": [
       "<div>\n",
       "<style scoped>\n",
       "    .dataframe tbody tr th:only-of-type {\n",
       "        vertical-align: middle;\n",
       "    }\n",
       "\n",
       "    .dataframe tbody tr th {\n",
       "        vertical-align: top;\n",
       "    }\n",
       "\n",
       "    .dataframe thead th {\n",
       "        text-align: right;\n",
       "    }\n",
       "</style>\n",
       "<table border=\"1\" class=\"dataframe\">\n",
       "  <thead>\n",
       "    <tr style=\"text-align: right;\">\n",
       "      <th></th>\n",
       "      <th>meta</th>\n",
       "      <th>text</th>\n",
       "    </tr>\n",
       "  </thead>\n",
       "  <tbody>\n",
       "    <tr>\n",
       "      <th>0</th>\n",
       "      <td>{'title': ' PDF Test Page', 'author': 'Yukon D...</td>\n",
       "      <td>PDF Test File    Congratulations, your com...</td>\n",
       "    </tr>\n",
       "  </tbody>\n",
       "</table>\n",
       "</div>"
      ],
      "text/plain": [
       "                                                meta  \\\n",
       "0  {'title': ' PDF Test Page', 'author': 'Yukon D...   \n",
       "\n",
       "                                                text  \n",
       "0      PDF Test File    Congratulations, your com...  "
      ]
     },
     "execution_count": 13,
     "metadata": {},
     "output_type": "execute_result"
    }
   ],
   "source": [
    "df"
   ]
  },
  {
   "cell_type": "code",
   "execution_count": null,
   "id": "c6e2b04f",
   "metadata": {},
   "outputs": [],
   "source": []
  }
 ],
 "metadata": {
  "kernelspec": {
   "display_name": "Python 3 (ipykernel)",
   "language": "python",
   "name": "python3"
  },
  "language_info": {
   "codemirror_mode": {
    "name": "ipython",
    "version": 3
   },
   "file_extension": ".py",
   "mimetype": "text/x-python",
   "name": "python",
   "nbconvert_exporter": "python",
   "pygments_lexer": "ipython3",
   "version": "3.11.4"
  }
 },
 "nbformat": 4,
 "nbformat_minor": 5
}
