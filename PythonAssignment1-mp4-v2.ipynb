{
 "cells": [
  {
   "cell_type": "code",
   "execution_count": 1,
   "id": "12232a60",
   "metadata": {},
   "outputs": [
    {
     "name": "stdout",
     "output_type": "stream",
     "text": [
      "Collecting opencv-python\n",
      "  Obtaining dependency information for opencv-python from https://files.pythonhosted.org/packages/fb/c4/f574ba6f04e6d7bf8c38d23e7a52389566dd7631fee0bcdd79ea07ef2dbf/opencv_python-4.8.0.76-cp37-abi3-win_amd64.whl.metadata\n",
      "  Downloading opencv_python-4.8.0.76-cp37-abi3-win_amd64.whl.metadata (20 kB)\n",
      "Requirement already satisfied: numpy>=1.21.2 in c:\\users\\andre\\anaconda3\\lib\\site-packages (from opencv-python) (1.24.3)\n",
      "Downloading opencv_python-4.8.0.76-cp37-abi3-win_amd64.whl (38.1 MB)\n",
      "   ---------------------------------------- 0.0/38.1 MB ? eta -:--:--\n",
      "   -- ------------------------------------- 2.0/38.1 MB 65.7 MB/s eta 0:00:01\n",
      "   -- ------------------------------------- 2.4/38.1 MB 51.6 MB/s eta 0:00:01\n",
      "   ---- ----------------------------------- 4.6/38.1 MB 36.6 MB/s eta 0:00:01\n",
      "   -------- ------------------------------- 8.4/38.1 MB 53.8 MB/s eta 0:00:01\n",
      "   ----------- ---------------------------- 11.3/38.1 MB 50.4 MB/s eta 0:00:01\n",
      "   --------------- ------------------------ 14.7/38.1 MB 73.1 MB/s eta 0:00:01\n",
      "   ----------------- ---------------------- 16.6/38.1 MB 59.5 MB/s eta 0:00:01\n",
      "   --------------------- ------------------ 20.7/38.1 MB 65.6 MB/s eta 0:00:01\n",
      "   ------------------------ --------------- 23.0/38.1 MB 59.5 MB/s eta 0:00:01\n",
      "   --------------------------- ------------ 26.2/38.1 MB 65.6 MB/s eta 0:00:01\n",
      "   ------------------------------ --------- 29.3/38.1 MB 65.2 MB/s eta 0:00:01\n",
      "   ---------------------------------- ----- 32.5/38.1 MB 65.2 MB/s eta 0:00:01\n",
      "   ------------------------------------- -- 36.0/38.1 MB 72.6 MB/s eta 0:00:01\n",
      "   ---------------------------------------  38.0/38.1 MB 65.2 MB/s eta 0:00:01\n",
      "   ---------------------------------------  38.1/38.1 MB 59.5 MB/s eta 0:00:01\n",
      "   ---------------------------------------- 38.1/38.1 MB 40.9 MB/s eta 0:00:00\n",
      "Installing collected packages: opencv-python\n",
      "Successfully installed opencv-python-4.8.0.76\n"
     ]
    },
    {
     "name": "stderr",
     "output_type": "stream",
     "text": [
      "DEPRECATION: textract 1.6.5 has a non-standard dependency specifier extract-msg<=0.29.*. pip 23.3 will enforce this behaviour change. A possible replacement is to upgrade to a newer version of textract or contact the author to suggest that they release a version with a conforming dependency specifiers. Discussion can be found at https://github.com/pypa/pip/issues/12063\n"
     ]
    }
   ],
   "source": [
    "!pip install opencv-python"
   ]
  },
  {
   "cell_type": "code",
   "execution_count": 2,
   "id": "8c600a68",
   "metadata": {},
   "outputs": [],
   "source": [
    "import cv2\n",
    "\n",
    "def readVideo(filename):\n",
    "    # Open the video file\n",
    "    cap = cv2.VideoCapture(filename)\n",
    "\n",
    "    # Check if the video file was opened successfully\n",
    "    if not cap.isOpened():\n",
    "        print(\"Error: Could not open video file.\")\n",
    "        return None, None\n",
    "\n",
    "    # Get video metadata\n",
    "    fps = int(cap.get(cv2.CAP_PROP_FPS))\n",
    "    frame_count = int(cap.get(cv2.CAP_PROP_FRAME_COUNT))\n",
    "    width = int(cap.get(cv2.CAP_PROP_FRAME_WIDTH))\n",
    "    height = int(cap.get(cv2.CAP_PROP_FRAME_HEIGHT))\n",
    "\n",
    "    meta = {\n",
    "        'fps': fps,\n",
    "        'frame_count': frame_count,\n",
    "        'width': width,\n",
    "        'height': height,\n",
    "    }\n",
    "\n",
    "    # Read video frames\n",
    "    frames = []\n",
    "    while True:\n",
    "        ret, frame = cap.read()\n",
    "        if not ret:\n",
    "            break\n",
    "        frames.append(frame)\n",
    "\n",
    "    # Release the video file\n",
    "    cap.release()\n",
    "\n",
    "    return meta, frames"
   ]
  },
  {
   "cell_type": "markdown",
   "id": "25713450",
   "metadata": {},
   "source": [
    "TEST"
   ]
  },
  {
   "cell_type": "code",
   "execution_count": 3,
   "id": "155208f3",
   "metadata": {},
   "outputs": [],
   "source": [
    "uri = '/Users/Andre/Documents/CPH Business 4/BI/Exercises 2023/Crazy Frog - Axel F (Official Video).mp4'"
   ]
  },
  {
   "cell_type": "code",
   "execution_count": 4,
   "id": "62c46726",
   "metadata": {},
   "outputs": [],
   "source": [
    "meta, frames = readVideo(uri)"
   ]
  },
  {
   "cell_type": "markdown",
   "id": "49b8d37c",
   "metadata": {},
   "source": [
    "Print metadata"
   ]
  },
  {
   "cell_type": "code",
   "execution_count": 5,
   "id": "f5d8f29c",
   "metadata": {},
   "outputs": [
    {
     "name": "stdout",
     "output_type": "stream",
     "text": [
      "Video Metadata:\n",
      "{'fps': 25, 'frame_count': 4293, 'width': 640, 'height': 360}\n"
     ]
    }
   ],
   "source": [
    "print(\"Video Metadata:\")\n",
    "print(meta)"
   ]
  },
  {
   "cell_type": "markdown",
   "id": "74a86ad7",
   "metadata": {},
   "source": [
    "Import to play mp4 file"
   ]
  },
  {
   "cell_type": "code",
   "execution_count": 6,
   "id": "c2716ba2",
   "metadata": {},
   "outputs": [],
   "source": [
    "import cv2\n",
    "\n",
    "def playVideo(filename):\n",
    "    # Open the video file\n",
    "    cap = cv2.VideoCapture(filename)\n",
    "\n",
    "    # Check if the video file was opened successfully\n",
    "    if not cap.isOpened():\n",
    "        print(\"Error: Could not open video file.\")\n",
    "        return\n",
    "\n",
    "    while True:\n",
    "        ret, frame = cap.read()\n",
    "        if not ret:\n",
    "            break\n",
    "\n",
    "        # Display the current frame\n",
    "        cv2.imshow('Video Player', frame)\n",
    "\n",
    "        # Check for user input to exit (press 'q')\n",
    "        key = cv2.waitKey(30)\n",
    "        if key == ord('q'):\n",
    "            break\n",
    "\n",
    "    # Release the video file and close the OpenCV window\n",
    "    cap.release()\n",
    "    cv2.destroyAllWindows()"
   ]
  },
  {
   "cell_type": "markdown",
   "id": "83eee970",
   "metadata": {},
   "source": [
    "Play video TEST"
   ]
  },
  {
   "cell_type": "code",
   "execution_count": 7,
   "id": "02ce1ac1",
   "metadata": {},
   "outputs": [],
   "source": [
    "uri = '/Users/Andre/Documents/CPH Business 4/BI/Exercises 2023/Crazy Frog - Axel F (Official Video).mp4'"
   ]
  },
  {
   "cell_type": "code",
   "execution_count": 8,
   "id": "7c021c85",
   "metadata": {},
   "outputs": [],
   "source": [
    "playVideo(uri)"
   ]
  },
  {
   "cell_type": "code",
   "execution_count": null,
   "id": "d4190c13",
   "metadata": {},
   "outputs": [],
   "source": []
  }
 ],
 "metadata": {
  "kernelspec": {
   "display_name": "Python 3 (ipykernel)",
   "language": "python",
   "name": "python3"
  },
  "language_info": {
   "codemirror_mode": {
    "name": "ipython",
    "version": 3
   },
   "file_extension": ".py",
   "mimetype": "text/x-python",
   "name": "python",
   "nbconvert_exporter": "python",
   "pygments_lexer": "ipython3",
   "version": "3.11.4"
  }
 },
 "nbformat": 4,
 "nbformat_minor": 5
}
