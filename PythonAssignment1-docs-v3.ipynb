{
 "cells": [
  {
   "cell_type": "code",
   "execution_count": 1,
   "id": "a12516c3",
   "metadata": {},
   "outputs": [
    {
     "name": "stdout",
     "output_type": "stream",
     "text": [
      "Requirement already satisfied: python-docx in c:\\users\\andre\\anaconda3\\lib\\site-packages (0.8.11)\n",
      "Requirement already satisfied: lxml>=2.3.2 in c:\\users\\andre\\anaconda3\\lib\\site-packages (from python-docx) (4.9.2)\n"
     ]
    },
    {
     "name": "stderr",
     "output_type": "stream",
     "text": [
      "DEPRECATION: textract 1.6.5 has a non-standard dependency specifier extract-msg<=0.29.*. pip 23.3 will enforce this behaviour change. A possible replacement is to upgrade to a newer version of textract or contact the author to suggest that they release a version with a conforming dependency specifiers. Discussion can be found at https://github.com/pypa/pip/issues/12063\n"
     ]
    }
   ],
   "source": [
    "!pip install python-docx"
   ]
  },
  {
   "cell_type": "code",
   "execution_count": 2,
   "id": "c04d7e63",
   "metadata": {},
   "outputs": [
    {
     "name": "stdout",
     "output_type": "stream",
     "text": [
      "Writing readdoc.py\n"
     ]
    }
   ],
   "source": [
    "%%writefile readdoc.py\n",
    "\n",
    "import docx2txt\n",
    "import docx\n",
    "from docx.document import Document\n",
    "from docx.opc.coreprops import CoreProperties\n",
    "\n",
    "def readDoc(filename):    \n",
    "    mydoc = docx.Document(filename)\n",
    "    mymeta = getMeta(mydoc)\n",
    "    text = docx2txt.process(filename)\n",
    "    text = text.replace('\\n', ' ')\n",
    "    return mymeta, text\n",
    "    \n",
    "def getMeta(doc):\n",
    "    metadata = {}\n",
    "    prop = doc.core_properties\n",
    "    metadata[\"author\"] = prop.author\n",
    "    metadata[\"category\"] = prop.category\n",
    "    metadata[\"comments\"] = prop.comments\n",
    "    metadata[\"content_status\"] = prop.content_status\n",
    "    metadata[\"created\"] = prop.created\n",
    "    metadata[\"identifier\"] = prop.identifier\n",
    "    metadata[\"keywords\"] = prop.keywords\n",
    "    metadata[\"last_modified_by\"] = prop.last_modified_by\n",
    "    metadata[\"language\"] = prop.language\n",
    "    metadata[\"modified\"] = prop.modified\n",
    "    metadata[\"subject\"] = prop.subject\n",
    "    metadata[\"title\"] = prop.title\n",
    "    metadata[\"version\"] = prop.version\n",
    "    return metadata"
   ]
  },
  {
   "cell_type": "markdown",
   "id": "0058c361",
   "metadata": {},
   "source": [
    "TEST"
   ]
  },
  {
   "cell_type": "code",
   "execution_count": 3,
   "id": "ead6f663",
   "metadata": {},
   "outputs": [],
   "source": [
    "import readdoc\n",
    "from readdoc import readDoc"
   ]
  },
  {
   "cell_type": "code",
   "execution_count": 4,
   "id": "c417bac4",
   "metadata": {},
   "outputs": [
    {
     "data": {
      "text/plain": [
       "<module 'readdoc' from 'C:\\\\Users\\\\Andre\\\\Documents\\\\CPH Business 4\\\\BI\\\\Exercises 2023\\\\readdoc.py'>"
      ]
     },
     "execution_count": 4,
     "metadata": {},
     "output_type": "execute_result"
    }
   ],
   "source": [
    "import importlib \n",
    "importlib.reload(readdoc)"
   ]
  },
  {
   "cell_type": "code",
   "execution_count": 5,
   "id": "2390a816",
   "metadata": {},
   "outputs": [],
   "source": [
    "uri = '/Users/Andre/Documents/CPH Business 4/BI/Exercises 2023/PythonWordTestDoc.docx'"
   ]
  },
  {
   "cell_type": "code",
   "execution_count": 6,
   "id": "20b2163c",
   "metadata": {},
   "outputs": [],
   "source": [
    "mymeta, text = readDoc(uri)"
   ]
  },
  {
   "cell_type": "code",
   "execution_count": 7,
   "id": "a76cc7f2",
   "metadata": {},
   "outputs": [
    {
     "data": {
      "text/plain": [
       "\"Exercise 0-1: Python Tech Stack  The objective is to prepare a convenient Python development environment, needed for some part of our laboratory practice.  Development Environment  Our development environment consists of following components:  Anaconda  We use\\xa0Anaconda\\xa0as a main development environment.  Anaconda includes  high-performance distribution of Python, as well as interactive iPython interpreter  over 100 of the most popular Python, R and Scala packages developed for projects in data science  Anaconda comes with a suite of graphical interface tools called\\xa0Anaconda Navigator.  Anaconda Navigator starts from the window of Anaconda application launcher.  Conda  Conda is the  Anaconda environment management system  installs and manages the packages installed in Anaconda  also takes care of the environment management and the dependencies for different languages, available in Anaconda\\xa0- Python, R, Ruby, Lua, Scala, Java, JavaScript, C/ C++, FORTRAN  Conda is itself an open source package enabled to  find and install the necessary external packages for a specific type of a project  can create virtual environments for each individual project  Conda runs in a terminal mode control by CLI.  You can download or read about Conda at\\xa0https://conda.io/docs/index.html.  Jupyter  Jupyter\\u200ais a helper application  special kind of editor  browser based\\xa0  interactive  Jupyter files are called\\xa0notebooks. A notebook can contain both\\xa0live code\\xa0and\\xa0document text\\xa0in the same file.  Jupyter includes Python code interpreter with immediate result.  Python  Python is a powerful interpreted programming language  open source from\\xa0https://www.python.org/  with easy to learn and elegant syntax  runs on most known platforms  It combines  dynamic typing  efficient high-level data structures  effective approach to object-oriented programming  Python programs are rapidly developed scripts.  Python interpreter is distributed with an extensive\\xa0standard library\\xa0of classes for various implementations.  There also exist huge number of free  third party Python modules  program examples\\xa0  tools  additional documentation  Python interpreter can be extended with new functions and data types implemented in C or C++.  Python Popular Libraries  Pip\\xa0- an installer and packaging system for Python  IPython\\xa0- interactive Python  NumPy\\xa0- numerical Python  Scipy\\xa0- math and scientific computing  Pandas\\xa0- high-performance data analysis  Scikit-learn\\xa0- a popular and powerful machine learning library  Scrappy\\xa0- web crawling framework  NLTK\\xa0- natural language toolkit  Pattern\\xa0- a web mining library  OpenCV\\xa0- a computer vision library  Matplotlib\\xa0- visualization library  Seaborn\\xa0- statistical visualization  Install Anaconda  Download Anaconda\\xa0https://www.anaconda.com/  select your OS  alternatively, take Miniconda, if you do not have enough space  Install Anaconda following the wizard.  Test the Installation  Open your\\xa0Terminal  Type\\xa0  python  it should show you Python version and metadata  Type\\xa0  import numpy  If nothing happens, it is a sign that the package is already imported by Anaconda.  To exit python type\\xa0  exit()  Try the installation with some other packages from the list above.  Test conda  Type  conda –V  to check if and which version is there  Type  conda –-help  to see which commands it uses  Type  conda list  to see which packages it manages  Test Jupyter  Type  jupyter notebook  It opens in your default browser Alternatively, it runs from\\xa0Anaconda Navigator  Jupyter starts the\\xa0Jupyter server  Update the Installation  Type  conda update conda  Type  conda update anaconda  Try the internal Python package manager\\xa0pip\\xa0Type  pip list  See what pip also knows about the installed packages  To update specific package, e.g.\\xa0scikit-learn\\xa0library, type  conda update scikit-learn  In addition to the tools provided by Anaconda's common data science environment, we will use some specialized frameworks, which we will install later.\""
      ]
     },
     "execution_count": 7,
     "metadata": {},
     "output_type": "execute_result"
    }
   ],
   "source": [
    "text"
   ]
  },
  {
   "cell_type": "markdown",
   "id": "536b1d06",
   "metadata": {},
   "source": [
    "Write into Data Frame"
   ]
  },
  {
   "cell_type": "code",
   "execution_count": 8,
   "id": "3967dc91",
   "metadata": {},
   "outputs": [],
   "source": [
    "import pandas as pd"
   ]
  },
  {
   "cell_type": "code",
   "execution_count": 9,
   "id": "0aac7bf2",
   "metadata": {},
   "outputs": [],
   "source": [
    "df = pd.DataFrame(columns = ['meta', 'text'])"
   ]
  },
  {
   "cell_type": "code",
   "execution_count": 10,
   "id": "ab92df8b",
   "metadata": {},
   "outputs": [],
   "source": [
    "#add new row to the end of df\n",
    "df.loc[len(df.index)] = [mymeta, text]"
   ]
  },
  {
   "cell_type": "code",
   "execution_count": 11,
   "id": "586fb9db",
   "metadata": {},
   "outputs": [
    {
     "data": {
      "text/html": [
       "<div>\n",
       "<style scoped>\n",
       "    .dataframe tbody tr th:only-of-type {\n",
       "        vertical-align: middle;\n",
       "    }\n",
       "\n",
       "    .dataframe tbody tr th {\n",
       "        vertical-align: top;\n",
       "    }\n",
       "\n",
       "    .dataframe thead th {\n",
       "        text-align: right;\n",
       "    }\n",
       "</style>\n",
       "<table border=\"1\" class=\"dataframe\">\n",
       "  <thead>\n",
       "    <tr style=\"text-align: right;\">\n",
       "      <th></th>\n",
       "      <th>meta</th>\n",
       "      <th>text</th>\n",
       "    </tr>\n",
       "  </thead>\n",
       "  <tbody>\n",
       "    <tr>\n",
       "      <th>0</th>\n",
       "      <td>{'author': 'Andreas Grand', 'category': '', 'c...</td>\n",
       "      <td>Exercise 0-1: Python Tech Stack  The objective...</td>\n",
       "    </tr>\n",
       "  </tbody>\n",
       "</table>\n",
       "</div>"
      ],
      "text/plain": [
       "                                                meta  \\\n",
       "0  {'author': 'Andreas Grand', 'category': '', 'c...   \n",
       "\n",
       "                                                text  \n",
       "0  Exercise 0-1: Python Tech Stack  The objective...  "
      ]
     },
     "execution_count": 11,
     "metadata": {},
     "output_type": "execute_result"
    }
   ],
   "source": [
    "df"
   ]
  },
  {
   "cell_type": "code",
   "execution_count": 12,
   "id": "dc06304f",
   "metadata": {},
   "outputs": [
    {
     "ename": "NameError",
     "evalue": "name 'docx' is not defined",
     "output_type": "error",
     "traceback": [
      "\u001b[1;31m---------------------------------------------------------------------------\u001b[0m",
      "\u001b[1;31mNameError\u001b[0m                                 Traceback (most recent call last)",
      "Cell \u001b[1;32mIn[12], line 1\u001b[0m\n\u001b[1;32m----> 1\u001b[0m doc \u001b[38;5;241m=\u001b[39m docx\u001b[38;5;241m.\u001b[39mDocument(uri)\n\u001b[0;32m      2\u001b[0m meta \u001b[38;5;241m=\u001b[39m getMetaData(doc)\n",
      "\u001b[1;31mNameError\u001b[0m: name 'docx' is not defined"
     ]
    }
   ],
   "source": [
    "doc = docx.Document(uri)\n",
    "meta = getMetaData(doc)"
   ]
  },
  {
   "cell_type": "code",
   "execution_count": 13,
   "id": "5dd4ba56",
   "metadata": {},
   "outputs": [
    {
     "ename": "NameError",
     "evalue": "name 'meta' is not defined",
     "output_type": "error",
     "traceback": [
      "\u001b[1;31m---------------------------------------------------------------------------\u001b[0m",
      "\u001b[1;31mNameError\u001b[0m                                 Traceback (most recent call last)",
      "Cell \u001b[1;32mIn[13], line 1\u001b[0m\n\u001b[1;32m----> 1\u001b[0m meta\n",
      "\u001b[1;31mNameError\u001b[0m: name 'meta' is not defined"
     ]
    }
   ],
   "source": [
    "meta"
   ]
  },
  {
   "cell_type": "code",
   "execution_count": null,
   "id": "4fa4074a",
   "metadata": {},
   "outputs": [],
   "source": []
  }
 ],
 "metadata": {
  "kernelspec": {
   "display_name": "Python 3 (ipykernel)",
   "language": "python",
   "name": "python3"
  },
  "language_info": {
   "codemirror_mode": {
    "name": "ipython",
    "version": 3
   },
   "file_extension": ".py",
   "mimetype": "text/x-python",
   "name": "python",
   "nbconvert_exporter": "python",
   "pygments_lexer": "ipython3",
   "version": "3.11.4"
  }
 },
 "nbformat": 4,
 "nbformat_minor": 5
}
